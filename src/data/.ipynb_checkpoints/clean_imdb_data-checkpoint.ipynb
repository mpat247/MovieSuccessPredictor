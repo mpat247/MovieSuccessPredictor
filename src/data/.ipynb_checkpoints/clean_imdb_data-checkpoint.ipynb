{
 "cells": [
  {
   "cell_type": "code",
   "execution_count": null,
   "metadata": {},
   "outputs": [],
   "source": [
    "def clean_imdb_data(imdb_basics, imdb_crew, imdb_principals, imdb_ratings):\n",
    "    # Dropping rows with critical missing values in IMDb basics\n",
    "    imdb_basics_cleaned = imdb_basics.dropna(subset=['primaryTitle', 'startYear', 'genres'])\n",
    "    print(f\"Dropped rows with missing critical values. Remaining rows: {imdb_basics_cleaned.shape[0]}\")\n",
    "\n",
    "    # Filling missing values in IMDb ratings\n",
    "    imdb_ratings['averageRating'].fillna(imdb_ratings['averageRating'].mean(), inplace=True)\n",
    "    print(\"IMDb Ratings - Missing values after filling:\")\n",
    "    print(imdb_ratings.isnull().sum())\n",
    "\n",
    "    # Standardize text fields\n",
    "    imdb_basics_cleaned['primaryTitle'] = imdb_basics_cleaned['primaryTitle'].str.lower()\n",
    "    imdb_basics_cleaned['genres'] = imdb_basics_cleaned['genres'].str.lower()\n",
    "\n",
    "    print(\"\\nSample data after cleaning and standardization:\")\n",
    "    print(imdb_basics_cleaned.head())\n",
    "\n",
    "    return imdb_basics_cleaned, imdb_ratings\n"
   ]
  }
 ],
 "metadata": {
  "kernelspec": {
   "display_name": "Python 3",
   "language": "python",
   "name": "python3"
  },
  "language_info": {
   "codemirror_mode": {
    "name": "ipython",
    "version": 3
   },
   "file_extension": ".py",
   "mimetype": "text/x-python",
   "name": "python",
   "nbconvert_exporter": "python",
   "pygments_lexer": "ipython3",
   "version": "3.8.5"
  }
 },
 "nbformat": 4,
 "nbformat_minor": 4
}
