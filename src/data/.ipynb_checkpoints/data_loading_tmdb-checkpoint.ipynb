{
 "cells": [
  {
   "cell_type": "code",
   "execution_count": null,
   "metadata": {},
   "outputs": [],
   "source": [
    "import pandas as pd\n",
    "\n",
    "def load_tmdb_data(tmdb_data_path):\n",
    "    print(\"Loading TMDb dataset...\")\n",
    "    tmdb_data = pd.read_csv(tmdb_data_path)\n",
    "    print(\"\\nTMDb Data Head:\")\n",
    "    print(tmdb_data.head())\n",
    "\n",
    "    # Checking for missing values\n",
    "    print(\"\\nMissing values in TMDb Data:\")\n",
    "    print(tmdb_data.isnull().sum())\n",
    "\n",
    "    return tmdb_data\n"
   ]
  }
 ],
 "metadata": {
  "kernelspec": {
   "display_name": "Python 3",
   "language": "python",
   "name": "python3"
  },
  "language_info": {
   "codemirror_mode": {
    "name": "ipython",
    "version": 3
   },
   "file_extension": ".py",
   "mimetype": "text/x-python",
   "name": "python",
   "nbconvert_exporter": "python",
   "pygments_lexer": "ipython3",
   "version": "3.8.5"
  }
 },
 "nbformat": 4,
 "nbformat_minor": 4
}
