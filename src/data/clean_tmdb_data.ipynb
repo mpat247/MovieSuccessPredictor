{
 "cells": [
  {
   "cell_type": "code",
   "execution_count": null,
   "metadata": {},
   "outputs": [],
   "source": [
    "def clean_tmdb_data(tmdb_data):\n",
    "    # Fill missing numerical values with the mean\n",
    "    tmdb_data_filled = tmdb_data.fillna(tmdb_data.mean())\n",
    "    # Standardize string fields if necessary, example with 'title' field\n",
    "    if 'title' in tmdb_data.columns:\n",
    "        tmdb_data_filled['title'] = tmdb_data_filled['title'].str.lower()\n",
    "    \n",
    "    print(\"\\nSample data after cleaning:\")\n",
    "    print(tmdb_data_filled.head())\n",
    "\n",
    "    return tmdb_data_filled\n"
   ]
  }
 ],
 "metadata": {
  "kernelspec": {
   "display_name": "Python 3",
   "language": "python",
   "name": "python3"
  },
  "language_info": {
   "codemirror_mode": {
    "name": "ipython",
    "version": 3
   },
   "file_extension": ".py",
   "mimetype": "text/x-python",
   "name": "python",
   "nbconvert_exporter": "python",
   "pygments_lexer": "ipython3",
   "version": "3.8.5"
  }
 },
 "nbformat": 4,
 "nbformat_minor": 4
}
