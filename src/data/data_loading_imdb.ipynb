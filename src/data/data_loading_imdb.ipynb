{
 "cells": [
  {
   "cell_type": "code",
   "execution_count": null,
   "metadata": {},
   "outputs": [],
   "source": [
    "import pandas as pd\n",
    "\n",
    "def load_imdb_data(basics_path, crew_path, principals_path, ratings_path):\n",
    "    def read_tsv(file_path):\n",
    "        return pd.read_csv(file_path, sep='\\t', na_values='\\\\N', low_memory=False)\n",
    "\n",
    "    print(\"Loading IMDb datasets...\")\n",
    "    imdb_basics = read_tsv(basics_path)\n",
    "    imdb_crew = read_tsv(crew_path)\n",
    "    imdb_principals = read_tsv(principals_path)\n",
    "    imdb_ratings = read_tsv(ratings_path)\n",
    "\n",
    "    print(\"\\nIMDb Basics Head:\")\n",
    "    print(imdb_basics.head())\n",
    "    print(\"\\nIMDb Crew Head:\")\n",
    "    print(imdb_crew.head())\n",
    "    print(\"\\nIMDb Principals Head:\")\n",
    "    print(imdb_principals.head())\n",
    "    print(\"\\nIMDb Ratings Head:\")\n",
    "    print(imdb_ratings.head())\n",
    "\n",
    "    # Checking for missing values\n",
    "    print(\"\\nMissing values in IMDb Basics:\")\n",
    "    print(imdb_basics.isnull().sum())\n",
    "    print(\"\\nMissing values in IMDb Crew:\")\n",
    "    print(imdb_crew.isnull().sum())\n",
    "    print(\"\\nMissing values in IMDb Principals:\")\n",
    "    print(imdb_principals.isnull().sum())\n",
    "    print(\"\\nMissing values in IMDb Ratings:\")\n",
    "    print(imdb_ratings.isnull().sum())\n",
    "\n",
    "    return imdb_basics, imdb_crew, imdb_principals, imdb_ratings\n"
   ]
  }
 ],
 "metadata": {
  "kernelspec": {
   "display_name": "Python 3",
   "language": "python",
   "name": "python3"
  },
  "language_info": {
   "codemirror_mode": {
    "name": "ipython",
    "version": 3
   },
   "file_extension": ".py",
   "mimetype": "text/x-python",
   "name": "python",
   "nbconvert_exporter": "python",
   "pygments_lexer": "ipython3",
   "version": "3.8.5"
  }
 },
 "nbformat": 4,
 "nbformat_minor": 4
}
