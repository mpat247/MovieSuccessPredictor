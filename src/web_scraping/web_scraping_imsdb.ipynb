{
 "cells": [
  {
   "cell_type": "code",
   "execution_count": null,
   "metadata": {},
   "outputs": [],
   "source": [
    "import requests\n",
    "from bs4 import BeautifulSoup\n",
    "import os\n",
    "\n",
    "def get_script_urls(base_url=\"https://imsdb.com/all-scripts.html\"):\n",
    "    response = requests.get(base_url)\n",
    "    soup = BeautifulSoup(response.text, 'html.parser')\n",
    "    links = soup.find_all('a', href=True)\n",
    "    script_urls = []\n",
    "    for link in links:\n",
    "        href = link['href']\n",
    "        if href.startswith('/scripts/'):\n",
    "            script_urls.append(\"https://imsdb.com\" + href)\n",
    "    return script_urls\n",
    "\n",
    "def scrape_script(script_url):\n",
    "    response = requests.get(script_url)\n",
    "    soup = BeautifulSoup(response.text, 'html.parser')\n",
    "    script_text = soup.find('pre')\n",
    "    if script_text:\n",
    "        return script_text.get_text(strip=True)\n",
    "    return None\n",
    "\n",
    "def save_scripts(script_urls, folder_path='data/scripts', limit=10):\n",
    "    os.makedirs(folder_path, exist_ok=True)\n",
    "    for i, url in enumerate(script_urls[:limit]):  # Limit to first `limit` scripts for demonstration\n",
    "        script = scrape_script(url)\n",
    "        if script:\n",
    "            file_path = os.path.join(folder_path, f'script_{i+1}.txt')\n",
    "            with open(file_path, 'w', encoding='utf-8') as f:\n",
    "                f.write(script)\n",
    "            print(f\"Saved script {i+1} to {file_path}\")\n",
    "        else:\n",
    "            print(f\"Failed to retrieve script from {url}\")\n",
    "\n",
    "# Example usage:\n",
    "# script_urls = get_script_urls()\n",
    "# save_scripts(script_urls, limit=10)\n"
   ]
  }
 ],
 "metadata": {
  "kernelspec": {
   "display_name": "Python 3",
   "language": "python",
   "name": "python3"
  },
  "language_info": {
   "codemirror_mode": {
    "name": "ipython",
    "version": 3
   },
   "file_extension": ".py",
   "mimetype": "text/x-python",
   "name": "python",
   "nbconvert_exporter": "python",
   "pygments_lexer": "ipython3",
   "version": "3.8.5"
  }
 },
 "nbformat": 4,
 "nbformat_minor": 4
}
