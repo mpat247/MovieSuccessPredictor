{
 "cells": [
  {
   "cell_type": "code",
   "execution_count": null,
   "metadata": {},
   "outputs": [],
   "source": [
    "import sys\n",
    "import os\n",
    "\n",
    "# Set the working directory to the project root\n",
    "os.chdir('D:/manav/Documents/Engineering/Masters/EE8206/Project/MovieSuccessPredictor')\n",
    "\n",
    "# Add the `src` directory to the Python path\n",
    "sys.path.append(os.path.abspath('src'))\n",
    "sys.path.append(os.path.abspath('models'))\n",
    "sys.path.append(os.path.abspath('data'))\n",
    "sys.path.append(os.path.abspath('notebooks'))\n",
    "\n",
    "# Now import the necessary functions\n",
    "from data.data_loading_imdb import load_imdb_data\n",
    "from data.clean_imdb_data import clean_imdb_data\n",
    "from data.data_loading_tmdb import load_tmdb_data\n",
    "from data.clean_tmdb_data import clean_tmdb_data\n",
    "from web_scraping.web_scraping_imsdb import get_script_urls, save_scripts\n",
    "\n",
    "# Define paths to IMDb files\n",
    "imdb_basics_path = 'data/imdb/title.basics.tsv'\n",
    "imdb_crew_path = 'data/imdb/title.crew.tsv'\n",
    "imdb_principals_path = 'data/imdb/title.principals.tsv'\n",
    "imdb_ratings_path = 'data/imdb/title.ratings.tsv'\n",
    "\n",
    "# Define path to TMDb file\n",
    "tmdb_data_path = 'data/tmdb/tmdb_5000_credits.csv'\n",
    "\n",
    "# Load IMDb data\n",
    "print(\"Loading IMDb data...\")\n",
    "imdb_basics, imdb_crew, imdb_principals, imdb_ratings = load_imdb_data(\n",
    "    imdb_basics_path, imdb_crew_path, imdb_principals_path, imdb_ratings_path)\n",
    "\n",
    "# Clean IMDb data\n",
    "print(\"Cleaning IMDb data...\")\n",
    "imdb_basics_cleaned, imdb_ratings_cleaned = clean_imdb_data(\n",
    "    imdb_basics, imdb_crew, imdb_principals, imdb_ratings)\n",
    "\n",
    "# Load TMDb data\n",
    "print(\"Loading TMDb data...\")\n",
    "tmdb_data = load_tmdb_data(tmdb_data_path)\n",
    "\n",
    "# Clean TMDb data\n",
    "print(\"Cleaning TMDb data...\")\n",
    "tmdb_data_cleaned = clean_tmdb_data(tmdb_data)\n",
    "\n",
    "# Web Scraping IMSDB\n",
    "print(\"Starting web scraping for movie scripts...\")\n",
    "script_urls = get_script_urls()\n",
    "save_scripts(script_urls, limit=10)\n"
   ]
  },
  {
   "cell_type": "code",
   "execution_count": null,
   "metadata": {},
   "outputs": [],
   "source": []
  }
 ],
 "metadata": {
  "kernelspec": {
   "display_name": "Python 3",
   "language": "python",
   "name": "python3"
  },
  "language_info": {
   "codemirror_mode": {
    "name": "ipython",
    "version": 3
   },
   "file_extension": ".py",
   "mimetype": "text/x-python",
   "name": "python",
   "nbconvert_exporter": "python",
   "pygments_lexer": "ipython3",
   "version": "3.8.5"
  }
 },
 "nbformat": 4,
 "nbformat_minor": 4
}
